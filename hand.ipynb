{
  "nbformat": 4,
  "nbformat_minor": 0,
  "metadata": {
    "colab": {
      "provenance": []
    },
    "kernelspec": {
      "name": "python3",
      "display_name": "Python 3"
    },
    "accelerator": "GPU"
  },
  "cells": [
    {
      "cell_type": "code",
      "metadata": {
        "id": "a0F6bPiOR7nd"
      },
      "source": [
        "import tensorflow as tf\n",
        "assert tf.__version__.startswith('2')\n",
        "\n",
        "import os\n",
        "import numpy as np\n",
        "import matplotlib.pyplot as plt\n",
        "from tensorflow.keras.models import Sequential\n",
        "from tensorflow.keras.layers import Dense, Dropout, Activation, Flatten\n",
        "from tensorflow.keras.callbacks import TensorBoard"
      ],
      "execution_count": null,
      "outputs": []
    },
    {
      "cell_type": "code",
      "metadata": {
        "id": "K0IptQi_KCaz"
      },
      "source": [
        "\n",
        "from google.colab import drive\n",
        "drive.mount('/content/drive')"
      ],
      "execution_count": null,
      "outputs": []
    },
    {
      "cell_type": "code",
      "metadata": {
        "id": "BZu2pyV1SNbk",
        "colab": {
          "base_uri": "https://localhost:8080/",
          "height": 35
        },
        "outputId": "a297900a-f91a-4860-8483-27fe448c4439"
      },
      "source": [
        "tf.__version__"
      ],
      "execution_count": null,
      "outputs": [
        {
          "output_type": "execute_result",
          "data": {
            "application/vnd.google.colaboratory.intrinsic+json": {
              "type": "string"
            },
            "text/plain": [
              "'2.3.0'"
            ]
          },
          "metadata": {
            "tags": []
          },
          "execution_count": 6
        }
      ]
    },
    {
      "cell_type": "code",
      "metadata": {
        "id": "j4c2G-hFVemR"
      },
      "source": [
        "zip_file = tf.keras.utils.get_file(origin='//content/drive/My Drive/Dataset/Dataset', fname=\"/content/drive/My Drive/Dataset/Dataset\")"
      ],
      "execution_count": null,
      "outputs": []
    },
    {
      "cell_type": "code",
      "metadata": {
        "id": "3JYjIx2WWnkS"
      },
      "source": [
        "base_dir = os.path.join(os.path.dirname(zip_file), 'Dataset')"
      ],
      "execution_count": null,
      "outputs": []
    },
    {
      "cell_type": "code",
      "metadata": {
        "id": "lIdCf5M7Xf37",
        "colab": {
          "base_uri": "https://localhost:8080/",
          "height": 52
        },
        "outputId": "bd4f6899-b3ce-48c0-9b74-842d48f1d308"
      },
      "source": [
        "IMAGE_SIZE = 224\n",
        "BATCH_SIZE = 64\n",
        "\n",
        "datagen = tf.keras.preprocessing.image.ImageDataGenerator(\n",
        "    rescale=1./255,\n",
        "    validation_split=0.2)\n",
        "\n",
        "train_generator = datagen.flow_from_directory(\n",
        "    base_dir,\n",
        "    target_size=(IMAGE_SIZE, IMAGE_SIZE),\n",
        "    batch_size=BATCH_SIZE,\n",
        "    subset='training')\n",
        "\n",
        "val_generator = datagen.flow_from_directory(\n",
        "    base_dir,\n",
        "    target_size=(IMAGE_SIZE, IMAGE_SIZE),\n",
        "    batch_size=BATCH_SIZE,\n",
        "    subset='validation')"
      ],
      "execution_count": null,
      "outputs": [
        {
          "output_type": "stream",
          "text": [
            "Found 1653 images belonging to 10 classes.\n",
            "Found 409 images belonging to 10 classes.\n"
          ],
          "name": "stdout"
        }
      ]
    },
    {
      "cell_type": "code",
      "metadata": {
        "id": "2QN5kY03X_5a",
        "colab": {
          "base_uri": "https://localhost:8080/",
          "height": 34
        },
        "outputId": "a5d92bec-6b81-4fb6-db0f-c5997fdcd3d5"
      },
      "source": [
        "for image_batch, label_batch in train_generator:\n",
        "  break\n",
        "image_batch.shape, label_batch.shape"
      ],
      "execution_count": null,
      "outputs": [
        {
          "output_type": "execute_result",
          "data": {
            "text/plain": [
              "((64, 224, 224, 3), (64, 10))"
            ]
          },
          "metadata": {
            "tags": []
          },
          "execution_count": 10
        }
      ]
    },
    {
      "cell_type": "code",
      "metadata": {
        "id": "7lW1z1QNYWEf",
        "colab": {
          "base_uri": "https://localhost:8080/",
          "height": 34
        },
        "outputId": "88fde283-1f5c-4306-fa6f-5293369cb919"
      },
      "source": [
        "print (train_generator.class_indices)\n",
        "\n",
        "labels = '\\n'.join(sorted(train_generator.class_indices.keys()))\n",
        "\n",
        "with open('labels.txt', 'w') as f:\n",
        "  f.write(labels)"
      ],
      "execution_count": null,
      "outputs": [
        {
          "output_type": "stream",
          "text": [
            "{'0': 0, '1': 1, '2': 2, '3': 3, '4': 4, '5': 5, '6': 6, '7': 7, '8': 8, '9': 9}\n"
          ],
          "name": "stdout"
        }
      ]
    },
    {
      "cell_type": "code",
      "metadata": {
        "id": "0DtlgxWRYvq3",
        "colab": {
          "base_uri": "https://localhost:8080/",
          "height": 193
        },
        "outputId": "ac904a85-02a8-4a69-f994-d89ecc7838d1"
      },
      "source": [
        "!cat labels.txt"
      ],
      "execution_count": null,
      "outputs": [
        {
          "output_type": "stream",
          "text": [
            "0\n",
            "1\n",
            "2\n",
            "3\n",
            "4\n",
            "5\n",
            "6\n",
            "7\n",
            "8\n",
            "9"
          ],
          "name": "stdout"
        }
      ]
    },
    {
      "cell_type": "code",
      "metadata": {
        "id": "bvmCAV9nY-EA"
      },
      "source": [
        "IMG_SHAPE = (IMAGE_SIZE, IMAGE_SIZE, 3)\n",
        "\n",
        "# Create the base model from the pre-trained model MobileNet V2\n",
        "base_model = tf.keras.applications.MobileNetV2(input_shape=IMG_SHAPE,\n",
        "                                              include_top=False,\n",
        "                                              weights='imagenet')"
      ],
      "execution_count": null,
      "outputs": []
    },
    {
      "cell_type": "code",
      "metadata": {
        "id": "Gn1ir0wcZaAS"
      },
      "source": [
        "base_model.trainable = False"
      ],
      "execution_count": null,
      "outputs": []
    },
    {
      "cell_type": "code",
      "metadata": {
        "id": "RVJWemVLZsHn"
      },
      "source": [
        "model = tf.keras.Sequential([\n",
        "  base_model,\n",
        "  tf.keras.layers.Conv2D(32, 3, activation='relu'),\n",
        "  tf.keras.layers.Dropout(0.2),\n",
        "  tf.keras.layers.GlobalAveragePooling2D(),\n",
        "  #tf.keras.layers.MaxPool2D(pool_size =(2, 2), strides = None, padding='valid', data_format=None, **kwargs)\n",
        "  tf.keras.layers.Dense(10, activation='softmax')\n",
        "])"
      ],
      "execution_count": null,
      "outputs": []
    },
    {
      "cell_type": "code",
      "metadata": {
        "id": "5jxTBEbdZxBP"
      },
      "source": [
        "model.compile(optimizer=tf.keras.optimizers.Adam(),\n",
        "              loss='categorical_crossentropy',\n",
        "              metrics=['accuracy'])"
      ],
      "execution_count": null,
      "outputs": []
    },
    {
      "cell_type": "code",
      "metadata": {
        "id": "C8529MvyZ3K1",
        "colab": {
          "base_uri": "https://localhost:8080/",
          "height": 334
        },
        "outputId": "b42b8949-1f61-4894-e4c9-ce37d6bdb80a"
      },
      "source": [
        "model.summary()"
      ],
      "execution_count": null,
      "outputs": [
        {
          "output_type": "stream",
          "text": [
            "Model: \"sequential\"\n",
            "_________________________________________________________________\n",
            "Layer (type)                 Output Shape              Param #   \n",
            "=================================================================\n",
            "mobilenetv2_1.00_224 (Functi (None, 7, 7, 1280)        2257984   \n",
            "_________________________________________________________________\n",
            "conv2d (Conv2D)              (None, 5, 5, 32)          368672    \n",
            "_________________________________________________________________\n",
            "dropout (Dropout)            (None, 5, 5, 32)          0         \n",
            "_________________________________________________________________\n",
            "global_average_pooling2d (Gl (None, 32)                0         \n",
            "_________________________________________________________________\n",
            "dense (Dense)                (None, 10)                330       \n",
            "=================================================================\n",
            "Total params: 2,626,986\n",
            "Trainable params: 369,002\n",
            "Non-trainable params: 2,257,984\n",
            "_________________________________________________________________\n"
          ],
          "name": "stdout"
        }
      ]
    },
    {
      "cell_type": "code",
      "metadata": {
        "id": "C2mBeBJOZ80g",
        "colab": {
          "base_uri": "https://localhost:8080/",
          "height": 34
        },
        "outputId": "86139515-77a1-4da6-dc86-4307aa30a34d"
      },
      "source": [
        "print('Number of trainable variables = {}'.format(len(model.trainable_variables)))"
      ],
      "execution_count": null,
      "outputs": [
        {
          "output_type": "stream",
          "text": [
            "Number of trainable variables = 4\n"
          ],
          "name": "stdout"
        }
      ]
    },
    {
      "cell_type": "code",
      "metadata": {
        "id": "Y1pE39kgaH_C"
      },
      "source": [
        "from PIL import ImageFile\n",
        "ImageFile.LOAD_TRUNCATED_IMAGES = True"
      ],
      "execution_count": null,
      "outputs": []
    },
    {
      "cell_type": "code",
      "metadata": {
        "id": "tLpdfexcaNpg",
        "colab": {
          "base_uri": "https://localhost:8080/",
          "height": 369
        },
        "outputId": "4d34cf1e-1911-446f-c618-d80891f1d8c6"
      },
      "source": [
        "epochs = 10\n",
        "\n",
        "history = model.fit(train_generator,\n",
        "                    steps_per_epoch=len(train_generator),\n",
        "                    epochs=epochs,\n",
        "                    validation_data=val_generator,\n",
        "                    validation_steps=len(val_generator))"
      ],
      "execution_count": null,
      "outputs": [
        {
          "output_type": "stream",
          "text": [
            "Epoch 1/10\n",
            "26/26 [==============================] - 538s 21s/step - loss: 2.2666 - accuracy: 0.2819 - val_loss: 1.4475 - val_accuracy: 0.4817\n",
            "Epoch 2/10\n",
            "26/26 [==============================] - 6s 239ms/step - loss: 1.0691 - accuracy: 0.6649 - val_loss: 1.2280 - val_accuracy: 0.5966\n",
            "Epoch 3/10\n",
            "26/26 [==============================] - 6s 236ms/step - loss: 0.7495 - accuracy: 0.7659 - val_loss: 1.0167 - val_accuracy: 0.6504\n",
            "Epoch 4/10\n",
            "26/26 [==============================] - 6s 242ms/step - loss: 0.5558 - accuracy: 0.8191 - val_loss: 0.9340 - val_accuracy: 0.6773\n",
            "Epoch 5/10\n",
            "26/26 [==============================] - 6s 244ms/step - loss: 0.4194 - accuracy: 0.8463 - val_loss: 0.7442 - val_accuracy: 0.7531\n",
            "Epoch 6/10\n",
            "26/26 [==============================] - 6s 236ms/step - loss: 0.3083 - accuracy: 0.9038 - val_loss: 0.7391 - val_accuracy: 0.7995\n",
            "Epoch 7/10\n",
            "26/26 [==============================] - 6s 243ms/step - loss: 0.1904 - accuracy: 0.9570 - val_loss: 0.7946 - val_accuracy: 0.7922\n",
            "Epoch 8/10\n",
            "26/26 [==============================] - 6s 242ms/step - loss: 0.1246 - accuracy: 0.9758 - val_loss: 0.7370 - val_accuracy: 0.7873\n",
            "Epoch 9/10\n",
            "26/26 [==============================] - 6s 239ms/step - loss: 0.1029 - accuracy: 0.9812 - val_loss: 0.8880 - val_accuracy: 0.7800\n",
            "Epoch 10/10\n",
            "26/26 [==============================] - 6s 245ms/step - loss: 0.0868 - accuracy: 0.9812 - val_loss: 0.8856 - val_accuracy: 0.7873\n"
          ],
          "name": "stdout"
        }
      ]
    },
    {
      "cell_type": "code",
      "metadata": {
        "id": "2KEoFewFaSbh"
      },
      "source": [
        "base_model.trainable = True"
      ],
      "execution_count": null,
      "outputs": []
    },
    {
      "cell_type": "code",
      "metadata": {
        "id": "lgpwr8EVb2JI",
        "colab": {
          "base_uri": "https://localhost:8080/",
          "height": 34
        },
        "outputId": "b11fac04-8052-4e49-c6b0-b44daa1b0169"
      },
      "source": [
        "# Let's take a look to see how many layers are in the base model\n",
        "print(\"Number of layers in the base model: \", len(base_model.layers))\n",
        "\n",
        "# Fine tune from this layer onwards\n",
        "fine_tune_at = 100\n",
        "\n",
        "# Freeze all the layers before the `fine_tune_at` layer\n",
        "for layer in base_model.layers[:fine_tune_at]:\n",
        "  layer.trainable =  False"
      ],
      "execution_count": null,
      "outputs": [
        {
          "output_type": "stream",
          "text": [
            "Number of layers in the base model:  155\n"
          ],
          "name": "stdout"
        }
      ]
    },
    {
      "cell_type": "code",
      "metadata": {
        "id": "n0asfjNZcFcs"
      },
      "source": [
        "model.compile(loss='categorical_crossentropy',\n",
        "              optimizer = tf.keras.optimizers.Adam(1e-5),\n",
        "              metrics=['accuracy'])"
      ],
      "execution_count": null,
      "outputs": []
    },
    {
      "cell_type": "code",
      "metadata": {
        "id": "nICng3wncQQo",
        "colab": {
          "base_uri": "https://localhost:8080/",
          "height": 334
        },
        "outputId": "dfb53686-4900-42ee-bd7d-c972d8b55305"
      },
      "source": [
        "model.summary()"
      ],
      "execution_count": null,
      "outputs": [
        {
          "output_type": "stream",
          "text": [
            "Model: \"sequential\"\n",
            "_________________________________________________________________\n",
            "Layer (type)                 Output Shape              Param #   \n",
            "=================================================================\n",
            "mobilenetv2_1.00_224 (Functi (None, 7, 7, 1280)        2257984   \n",
            "_________________________________________________________________\n",
            "conv2d (Conv2D)              (None, 5, 5, 32)          368672    \n",
            "_________________________________________________________________\n",
            "dropout (Dropout)            (None, 5, 5, 32)          0         \n",
            "_________________________________________________________________\n",
            "global_average_pooling2d (Gl (None, 32)                0         \n",
            "_________________________________________________________________\n",
            "dense (Dense)                (None, 10)                330       \n",
            "=================================================================\n",
            "Total params: 2,626,986\n",
            "Trainable params: 2,231,594\n",
            "Non-trainable params: 395,392\n",
            "_________________________________________________________________\n"
          ],
          "name": "stdout"
        }
      ]
    },
    {
      "cell_type": "code",
      "metadata": {
        "id": "yVsdQUwocVi2",
        "colab": {
          "base_uri": "https://localhost:8080/",
          "height": 34
        },
        "outputId": "7008632e-fa90-49fb-c7fb-157969485680"
      },
      "source": [
        "print('Number of trainable variables = {}'.format(len(model.trainable_variables)))"
      ],
      "execution_count": null,
      "outputs": [
        {
          "output_type": "stream",
          "text": [
            "Number of trainable variables = 60\n"
          ],
          "name": "stdout"
        }
      ]
    },
    {
      "cell_type": "code",
      "metadata": {
        "id": "jvh-CpfAchz-",
        "colab": {
          "base_uri": "https://localhost:8080/",
          "height": 721
        },
        "outputId": "022000e5-b227-411c-d736-7d37288fdc19"
      },
      "source": [
        "history_fine = model.fit(train_generator,\n",
        "                         steps_per_epoch=len(train_generator),\n",
        "                         epochs=20,\n",
        "                         validation_data=val_generator,\n",
        "                         validation_steps=len(val_generator))"
      ],
      "execution_count": null,
      "outputs": [
        {
          "output_type": "stream",
          "text": [
            "Epoch 1/20\n",
            "26/26 [==============================] - 7s 280ms/step - loss: 1.9450 - accuracy: 0.5475 - val_loss: 0.8182 - val_accuracy: 0.7995\n",
            "Epoch 2/20\n",
            "26/26 [==============================] - 7s 252ms/step - loss: 0.8534 - accuracy: 0.7296 - val_loss: 0.8526 - val_accuracy: 0.7897\n",
            "Epoch 3/20\n",
            "26/26 [==============================] - 6s 243ms/step - loss: 0.4430 - accuracy: 0.8500 - val_loss: 0.8756 - val_accuracy: 0.7922\n",
            "Epoch 4/20\n",
            "26/26 [==============================] - 7s 254ms/step - loss: 0.2868 - accuracy: 0.9153 - val_loss: 0.8678 - val_accuracy: 0.7873\n",
            "Epoch 5/20\n",
            "26/26 [==============================] - 7s 252ms/step - loss: 0.2194 - accuracy: 0.9425 - val_loss: 0.8525 - val_accuracy: 0.8020\n",
            "Epoch 6/20\n",
            "26/26 [==============================] - 7s 253ms/step - loss: 0.1690 - accuracy: 0.9583 - val_loss: 0.8278 - val_accuracy: 0.8117\n",
            "Epoch 7/20\n",
            "26/26 [==============================] - 6s 248ms/step - loss: 0.1291 - accuracy: 0.9728 - val_loss: 0.8199 - val_accuracy: 0.8068\n",
            "Epoch 8/20\n",
            "26/26 [==============================] - 6s 250ms/step - loss: 0.1113 - accuracy: 0.9722 - val_loss: 0.8138 - val_accuracy: 0.8020\n",
            "Epoch 9/20\n",
            "26/26 [==============================] - 6s 244ms/step - loss: 0.0883 - accuracy: 0.9855 - val_loss: 0.8061 - val_accuracy: 0.8020\n",
            "Epoch 10/20\n",
            "26/26 [==============================] - 6s 248ms/step - loss: 0.0824 - accuracy: 0.9849 - val_loss: 0.8089 - val_accuracy: 0.8068\n",
            "Epoch 11/20\n",
            "26/26 [==============================] - 7s 255ms/step - loss: 0.0643 - accuracy: 0.9927 - val_loss: 0.8058 - val_accuracy: 0.8044\n",
            "Epoch 12/20\n",
            "26/26 [==============================] - 7s 250ms/step - loss: 0.0641 - accuracy: 0.9897 - val_loss: 0.8036 - val_accuracy: 0.8020\n",
            "Epoch 13/20\n",
            "26/26 [==============================] - 6s 249ms/step - loss: 0.0523 - accuracy: 0.9927 - val_loss: 0.8058 - val_accuracy: 0.7995\n",
            "Epoch 14/20\n",
            "26/26 [==============================] - 7s 252ms/step - loss: 0.0541 - accuracy: 0.9885 - val_loss: 0.7977 - val_accuracy: 0.8044\n",
            "Epoch 15/20\n",
            "26/26 [==============================] - 6s 245ms/step - loss: 0.0416 - accuracy: 0.9958 - val_loss: 0.7915 - val_accuracy: 0.8068\n",
            "Epoch 16/20\n",
            "26/26 [==============================] - 6s 245ms/step - loss: 0.0413 - accuracy: 0.9970 - val_loss: 0.7975 - val_accuracy: 0.8020\n",
            "Epoch 17/20\n",
            "26/26 [==============================] - 6s 249ms/step - loss: 0.0424 - accuracy: 0.9952 - val_loss: 0.7984 - val_accuracy: 0.8166\n",
            "Epoch 18/20\n",
            "26/26 [==============================] - 6s 249ms/step - loss: 0.0338 - accuracy: 0.9982 - val_loss: 0.8056 - val_accuracy: 0.8166\n",
            "Epoch 19/20\n",
            "26/26 [==============================] - 6s 246ms/step - loss: 0.0357 - accuracy: 0.9958 - val_loss: 0.8046 - val_accuracy: 0.8191\n",
            "Epoch 20/20\n",
            "26/26 [==============================] - 6s 249ms/step - loss: 0.0287 - accuracy: 0.9988 - val_loss: 0.8066 - val_accuracy: 0.8191\n"
          ],
          "name": "stdout"
        }
      ]
    },
    {
      "cell_type": "code",
      "metadata": {
        "id": "6bzRGLw2cuJz"
      },
      "source": [
        "model.save(\"detecthandee.h5\")"
      ],
      "execution_count": null,
      "outputs": []
    },
    {
      "cell_type": "code",
      "metadata": {
        "id": "Yw4PAEDyjeZa"
      },
      "source": [],
      "execution_count": null,
      "outputs": []
    }
  ]
}